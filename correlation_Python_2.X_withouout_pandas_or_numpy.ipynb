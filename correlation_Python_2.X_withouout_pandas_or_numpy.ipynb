{
 "cells": [
  {
   "cell_type": "markdown",
   "metadata": {},
   "source": [
    "This notebooks shows how to get the correlation between 2 vectors in Python 2.X without the use of Numpy or Pandas"
   ]
  },
  {
   "cell_type": "markdown",
   "metadata": {},
   "source": [
    "# Correlation"
   ]
  },
  {
   "cell_type": "markdown",
   "metadata": {},
   "source": [
    "Correlated variables are those which contain information about each other. <br>\n",
    "The stronger the correlation, the more one variable tells us about the other."
   ]
  },
  {
   "cell_type": "markdown",
   "metadata": {},
   "source": [
    "Pearson’s Correlation Coefficient, it is defined as “the covariance between two vectors, normalized by the product of their standard deviations”."
   ]
  },
  {
   "cell_type": "markdown",
   "metadata": {},
   "source": [
    "### Imports"
   ]
  },
  {
   "cell_type": "code",
   "execution_count": 2,
   "metadata": {},
   "outputs": [],
   "source": [
    "import math\n",
    "import statistics"
   ]
  },
  {
   "cell_type": "markdown",
   "metadata": {},
   "source": [
    "### Auxiliary Functions"
   ]
  },
  {
   "cell_type": "code",
   "execution_count": 3,
   "metadata": {},
   "outputs": [],
   "source": [
    "def mean(x):\n",
    "    return sum(x)/len(x)"
   ]
  },
  {
   "cell_type": "code",
   "execution_count": 4,
   "metadata": {},
   "outputs": [],
   "source": [
    "def covariance(x,y):\n",
    "    calc = []\n",
    "    for i in range(len(x)):\n",
    "        xi = x[i] - mean(x)\n",
    "        yi = y[i] - mean(y)\n",
    "        calc.append(xi * yi)\n",
    "    return sum(calc)/(len(x) - 1)"
   ]
  },
  {
   "cell_type": "markdown",
   "metadata": {},
   "source": [
    "- If they are both above their mean (or both below), then this will produce a positive number, because a positive×positive=positive, and likewise a negative×negative=positive.\n",
    "- If they are on different sides of their means, then this produces a negative number (because positive×negative=negative).\n",
    "\n",
    "Once we have all these values calculated for each pair, sum them up, and divide by n-1, where n is the sample size. This is the sample covariance."
   ]
  },
  {
   "cell_type": "code",
   "execution_count": 5,
   "metadata": {},
   "outputs": [],
   "source": [
    "def correlation(x,y):\n",
    "    cov = covariance(x,y)\n",
    "    if((statistics.stdev(x) == 0) and (statistics.stdev(y) == 0)):\n",
    "        return 1.0 # If both are 0, then they are correlated\n",
    "    elif((statistics.stdev(x) * statistics.stdev(y)) == 0):\n",
    "        return null # This should return inf --> Need to handle this\n",
    "    else:\n",
    "        return cov / (statistics.stdev(x) * statistics.stdev(y))"
   ]
  },
  {
   "cell_type": "markdown",
   "metadata": {},
   "source": [
    "The covariance of two identical vectors is also equal to their variance. <br>\n",
    "Therefore, the maximum value the covariance between two vectors can take is equal to the product of their standard deviations, which occurs when the vectors are perfectly correlated. It is this which bounds the correlation coefficient between -1 and +1."
   ]
  },
  {
   "cell_type": "markdown",
   "metadata": {},
   "source": [
    "### Examples"
   ]
  },
  {
   "cell_type": "code",
   "execution_count": 6,
   "metadata": {},
   "outputs": [
    {
     "name": "stdout",
     "output_type": "stream",
     "text": [
      "1.0\n",
      "0.0\n"
     ]
    }
   ],
   "source": [
    "x = [1, 2, 3, 4, 5]\n",
    "corr = [2, 4, 6, 8, 10]\n",
    "uncorr = [5, 6, 5, 6, 5]\n",
    "\n",
    "print correlation(x,corr)\n",
    "print correlation(x,uncorr)"
   ]
  },
  {
   "cell_type": "code",
   "execution_count": 7,
   "metadata": {},
   "outputs": [
    {
     "name": "stdout",
     "output_type": "stream",
     "text": [
      "-0.742610657233\n"
     ]
    }
   ],
   "source": [
    "a = [1, 2, 3, 4, 5]\n",
    "b = [10, 9, 2.5, 6, 4]\n",
    "\n",
    "print correlation(a,b)"
   ]
  }
 ],
 "metadata": {
  "kernelspec": {
   "display_name": "Python 2",
   "language": "python",
   "name": "python2"
  },
  "language_info": {
   "codemirror_mode": {
    "name": "ipython",
    "version": 2
   },
   "file_extension": ".py",
   "mimetype": "text/x-python",
   "name": "python",
   "nbconvert_exporter": "python",
   "pygments_lexer": "ipython2",
   "version": "2.7.16"
  }
 },
 "nbformat": 4,
 "nbformat_minor": 2
}
